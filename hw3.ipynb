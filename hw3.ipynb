{
  "nbformat": 4,
  "nbformat_minor": 0,
  "metadata": {
    "colab": {
      "name": "hw3.ipynb",
      "provenance": [],
      "authorship_tag": "ABX9TyM0im53tYQXX3W0ai5u+ccG",
      "include_colab_link": true
    },
    "kernelspec": {
      "name": "python3",
      "display_name": "Python 3"
    },
    "language_info": {
      "name": "python"
    }
  },
  "cells": [
    {
      "cell_type": "markdown",
      "metadata": {
        "id": "view-in-github",
        "colab_type": "text"
      },
      "source": [
        "<a href=\"https://colab.research.google.com/github/oatthegreat/hw3/blob/main/hw3.ipynb\" target=\"_parent\"><img src=\"https://colab.research.google.com/assets/colab-badge.svg\" alt=\"Open In Colab\"/></a>"
      ]
    },
    {
      "cell_type": "code",
      "execution_count": 102,
      "metadata": {
        "id": "_ruy_GHENhPy",
        "colab": {
          "base_uri": "https://localhost:8080/"
        },
        "outputId": "6ca7245e-6fbf-484e-c695-130f6faaf926"
      },
      "outputs": [
        {
          "output_type": "execute_result",
          "data": {
            "text/plain": [
              "['555',\n",
              " '1239',\n",
              " '636',\n",
              " '555',\n",
              " '0113',\n",
              " '555',\n",
              " '6542',\n",
              " '555',\n",
              " '8904',\n",
              " '636',\n",
              " '555',\n",
              " '3226',\n",
              " '5553642']"
            ]
          },
          "metadata": {},
          "execution_count": 102
        }
      ],
      "source": [
        "import re\n",
        "import pandas as pd\n",
        "import numpy as np\n",
        "\n",
        "\n",
        "data = \"555-1239Dr. Bernard Lander(636) 555-0113Hollingdorp, Donnatella555-6542Fitzgerald, F. Sco\\\n",
        "tt555 8904Rev. Martin Luther King636-555-3226Snodgrass, Theodore5553642Carlamina Scarfoni\"\n",
        "\n",
        "#1\n",
        "re.findall('[0-9]+', data)"
      ]
    },
    {
      "cell_type": "code",
      "source": [
        "#2\n",
        "re.findall(\"([a-zA-Z]{3,30}\\s*)+\",data)\n",
        "re.findall(\"[a-zA-Z]{3,30}\",data)\n",
        "#stack overflow helped me with this "
      ],
      "metadata": {
        "id": "YkqI6CDicxuo",
        "colab": {
          "base_uri": "https://localhost:8080/"
        },
        "outputId": "0cdbb996-68b8-4c5d-9ec4-ae9a094c603c"
      },
      "execution_count": 103,
      "outputs": [
        {
          "output_type": "execute_result",
          "data": {
            "text/plain": [
              "['Bernard',\n",
              " 'Lander',\n",
              " 'Hollingdorp',\n",
              " 'Donnatella',\n",
              " 'Fitzgerald',\n",
              " 'Scott',\n",
              " 'Rev',\n",
              " 'Martin',\n",
              " 'Luther',\n",
              " 'King',\n",
              " 'Snodgrass',\n",
              " 'Theodore',\n",
              " 'Carlamina',\n",
              " 'Scarfoni']"
            ]
          },
          "metadata": {},
          "execution_count": 103
        }
      ]
    },
    {
      "cell_type": "code",
      "source": [
        "#3\n",
        "re.findall(r\"[^()0-9-]+\", data)"
      ],
      "metadata": {
        "id": "YbJFTAFg1UwE",
        "colab": {
          "base_uri": "https://localhost:8080/"
        },
        "outputId": "496f986a-3b2f-45d0-e383-3a26a2e6ab36"
      },
      "execution_count": 104,
      "outputs": [
        {
          "output_type": "execute_result",
          "data": {
            "text/plain": [
              "['Dr. Bernard Lander',\n",
              " ' ',\n",
              " 'Hollingdorp, Donnatella',\n",
              " 'Fitzgerald, F. Scott',\n",
              " ' ',\n",
              " 'Rev. Martin Luther King',\n",
              " 'Snodgrass, Theodore',\n",
              " 'Carlamina Scarfoni']"
            ]
          },
          "metadata": {},
          "execution_count": 104
        }
      ]
    },
    {
      "cell_type": "code",
      "source": [
        "#4\n",
        "data = pd.Series(data)\n",
        "data.str.contains('Dr|Rev')"
      ],
      "metadata": {
        "id": "4dmmQFjUFkSJ",
        "colab": {
          "base_uri": "https://localhost:8080/"
        },
        "outputId": "ad051908-7940-432f-a58e-58d7279e010e"
      },
      "execution_count": 105,
      "outputs": [
        {
          "output_type": "execute_result",
          "data": {
            "text/plain": [
              "0    True\n",
              "dtype: bool"
            ]
          },
          "metadata": {},
          "execution_count": 105
        }
      ]
    },
    {
      "cell_type": "code",
      "source": [
        "#5\n",
        "data = pd.Series(data)\n",
        "data.str.contains('(.*\\b)\\s')"
      ],
      "metadata": {
        "id": "ah1bqqjMoTaS",
        "colab": {
          "base_uri": "https://localhost:8080/"
        },
        "outputId": "6c82b722-78c0-4d01-e606-109de0d5e8a3"
      },
      "execution_count": 106,
      "outputs": [
        {
          "output_type": "stream",
          "name": "stderr",
          "text": [
            "/usr/local/lib/python3.7/dist-packages/ipykernel_launcher.py:3: UserWarning: This pattern has match groups. To actually get the groups, use str.extract.\n",
            "  This is separate from the ipykernel package so we can avoid doing imports until\n"
          ]
        },
        {
          "output_type": "execute_result",
          "data": {
            "text/plain": [
              "0    False\n",
              "dtype: bool"
            ]
          },
          "metadata": {},
          "execution_count": 106
        }
      ]
    },
    {
      "cell_type": "code",
      "source": [
        "#6\n",
        "html_str = '<title>+++BREAKING NEWS+++</title>'\n",
        "#re.findall('<.+>', html_str)\n",
        "#this fails because it outputs everything than just<tite>\n",
        "re.findall('(<title>)', html_str)"
      ],
      "metadata": {
        "colab": {
          "base_uri": "https://localhost:8080/"
        },
        "id": "Y6moXG2dcHvf",
        "outputId": "22f10068-6e35-4fc6-9a9a-4b4c2773b492"
      },
      "execution_count": null,
      "outputs": [
        {
          "output_type": "execute_result",
          "data": {
            "text/plain": [
              "['<title>']"
            ]
          },
          "metadata": {},
          "execution_count": 100
        }
      ]
    },
    {
      "cell_type": "code",
      "source": [
        "#7\n",
        "str_num = '(5-3)^2=5^2-2*5*3+3^2'\n",
        "#re.findall('[^0-9=+*()]+', str_num)\n",
        "#This only return the signs not the whole string\n",
        "re.findall('[^0-10=+*()]+', str_num)"
      ],
      "metadata": {
        "colab": {
          "base_uri": "https://localhost:8080/"
        },
        "id": "mToa5BrggtGZ",
        "outputId": "e57715d9-d11a-4ab1-fc30-bd33098876d5"
      },
      "execution_count": null,
      "outputs": [
        {
          "output_type": "execute_result",
          "data": {
            "text/plain": [
              "['5-3', '^2', '5^2-2', '5', '3', '3^2']"
            ]
          },
          "metadata": {},
          "execution_count": 101
        }
      ]
    }
  ]
}